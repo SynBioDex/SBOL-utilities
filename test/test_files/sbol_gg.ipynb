{
 "cells": [
  {
   "cell_type": "code",
   "execution_count": 1,
   "metadata": {},
   "outputs": [],
   "source": [
    "import os\n",
    "import sbol3\n",
    "from sbol_utilities.component import ed_restriction_enzyme, backbone, part_in_backbone,  part_in_backbone_from_sbol, \\\n",
    "    digestion, ligation, Assembly_plan_composite_in_backbone_single_enzyme, backbone_from_sbol\n",
    "from sbol_utilities.conversion import convert_from_genbank\n",
    "from itertools import product\n",
    "from sbol_utilities.component import contained_components"
   ]
  },
  {
   "cell_type": "markdown",
   "metadata": {},
   "source": [
    "# Simple assembly"
   ]
  },
  {
   "cell_type": "code",
   "execution_count": 2,
   "metadata": {},
   "outputs": [],
   "source": [
    "\"\"\"Test assembly plan class\"\"\"\n",
    "doc = sbol3.Document()\n",
    "sbol3.set_namespace('http://sbolstandard.org/testfiles')\n",
    "# Assembly plan setup\n",
    "bsai = ed_restriction_enzyme('BsaI')\n",
    "#lvl1 acceptor\n",
    "podd1_dir = os.path.join('podd1.gb')\n",
    "podd_doc = convert_from_genbank(podd1_dir, 'https://github.com/Gonza10V')\n",
    "podd_af = [top_level for top_level in podd_doc if type(top_level)==sbol3.Component][0]\n",
    "podd_backbone, podd_backbone_seq = backbone_from_sbol('pOdd_bb', podd_af, [680,1770], 4, False, name='pOdd_bb')\n",
    "doc.add([podd_backbone,podd_backbone_seq])\n",
    "#parts in backbone\n",
    "##get parts from genbank\n",
    "j23100_dir = os.path.join('ab_j23100.gb')\n",
    "b0034_dir = os.path.join('bc_b0034.gb')\n",
    "gfp_dir = os.path.join('ce_gfp.gb')\n",
    "b0015_dir = os.path.join('ef_b0015.gb')\n",
    "j23100_doc = convert_from_genbank(j23100_dir, 'https://github.com/Gonza10V')\n",
    "j23100_ab = [top_level for top_level in j23100_doc if type(top_level)==sbol3.Component][0]\n",
    "b0034_doc = convert_from_genbank(b0034_dir, 'https://github.com/Gonza10V')\n",
    "b0034_bc = [top_level for top_level in b0034_doc if type(top_level)==sbol3.Component][0]\n",
    "gfp_doc = convert_from_genbank(gfp_dir, 'https://github.com/Gonza10V')\n",
    "gfp_ce = [top_level for top_level in gfp_doc if type(top_level)==sbol3.Component][0]\n",
    "b0015_doc = convert_from_genbank(b0015_dir, 'https://github.com/Gonza10V')\n",
    "b0015_ef = [top_level for top_level in b0015_doc if type(top_level)==sbol3.Component][0]\n",
    "##SBOL parts in backbone\n",
    "j23100_ab_in_bb, j23100_ab_in_bb_seq = part_in_backbone_from_sbol('j23100_ab_in_bb', j23100_ab, [479,513], [sbol3.SO_PROMOTER], 4, False, name='j23100_ab_in_bb')\n",
    "doc.add([j23100_ab_in_bb, j23100_ab_in_bb_seq])\n",
    "b0034_bc_in_bb, b0034_bc_in_bb_seq = part_in_backbone_from_sbol('b0034_bc_in_bb', b0034_bc, [479,499], [sbol3.SO_RBS], 4, False, name='b0034_bc_in_bb')\n",
    "doc.add([b0034_bc_in_bb, b0034_bc_in_bb_seq])\n",
    "gfp_ce_in_bb, gfp_ce_in_bb_seq = part_in_backbone_from_sbol('gfp_ce_in_bb', gfp_ce, [479,1195], [sbol3.SO_CDS], 4, False, name='gfp_ce_in_bb')\n",
    "doc.add([gfp_ce_in_bb, gfp_ce_in_bb_seq])\n",
    "b0015_ef_in_bb, b0015_ef_in_bb_seq = part_in_backbone_from_sbol('b0015_ef_in_bb', b0015_ef, [518,646], [sbol3.SO_TERMINATOR], 4, False, name='b0015_ef_in_bb')\n",
    "doc.add([b0015_ef_in_bb, b0015_ef_in_bb_seq])\n",
    "\n",
    "\n",
    "#Assembly plan\n",
    "simple_assembly_plan = Assembly_plan_composite_in_backbone_single_enzyme( \n",
    "                    name='simple_green_transcriptional_unit',\n",
    "                    parts_in_backbone=[j23100_ab_in_bb, b0034_bc_in_bb, gfp_ce_in_bb, b0015_ef_in_bb], \n",
    "                    acceptor_backbone=podd_backbone,\n",
    "                    restriction_enzyme=bsai,\n",
    "                    document=doc)\n",
    "simple_assembly_plan.run()"
   ]
  },
  {
   "cell_type": "markdown",
   "metadata": {},
   "source": [
    "Should have 1 product"
   ]
  },
  {
   "cell_type": "code",
   "execution_count": 9,
   "metadata": {},
   "outputs": [
    {
     "name": "stdout",
     "output_type": "stream",
     "text": [
      "1\n"
     ]
    },
    {
     "data": {
      "text/plain": [
       "[[<sbol3.component.Component at 0x7fe1a5441af0>,\n",
       "  <sbol3.sequence.Sequence at 0x7fe1c484bdf0>]]"
      ]
     },
     "execution_count": 9,
     "metadata": {},
     "output_type": "execute_result"
    }
   ],
   "source": [
    "print(len(simple_assembly_plan.products))\n",
    "simple_assembly_plan.products"
   ]
  },
  {
   "cell_type": "markdown",
   "metadata": {},
   "source": [
    "Print doc components"
   ]
  },
  {
   "cell_type": "code",
   "execution_count": 3,
   "metadata": {},
   "outputs": [
    {
     "name": "stdout",
     "output_type": "stream",
     "text": [
      "http://sbolstandard.org/testfiles/pOdd_bb\n",
      "http://sbolstandard.org/testfiles/pOdd_bb_seq\n",
      "http://sbolstandard.org/testfiles/j23100_ab_in_bb\n",
      "http://sbolstandard.org/testfiles/j23100_ab_in_bb_seq\n",
      "http://sbolstandard.org/testfiles/b0034_bc_in_bb\n",
      "http://sbolstandard.org/testfiles/b0034_bc_in_bb_seq\n",
      "http://sbolstandard.org/testfiles/gfp_ce_in_bb\n",
      "http://sbolstandard.org/testfiles/gfp_ce_in_bb_seq\n",
      "http://sbolstandard.org/testfiles/b0015_ef_in_bb\n",
      "http://sbolstandard.org/testfiles/b0015_ef_in_bb_seq\n",
      "http://sbolstandard.org/testfiles/simple_green_transcriptional_unit_assembly_plan\n",
      "http://sbolstandard.org/testfiles/j23100_ab_in_bb_part_extract\n",
      "http://sbolstandard.org/testfiles/j23100_ab_in_bb_part_extract_seq\n",
      "http://sbolstandard.org/testfiles/b0034_bc_in_bb_part_extract\n",
      "http://sbolstandard.org/testfiles/b0034_bc_in_bb_part_extract_seq\n",
      "http://sbolstandard.org/testfiles/gfp_ce_in_bb_part_extract\n",
      "http://sbolstandard.org/testfiles/gfp_ce_in_bb_part_extract_seq\n",
      "http://sbolstandard.org/testfiles/b0015_ef_in_bb_part_extract\n",
      "http://sbolstandard.org/testfiles/b0015_ef_in_bb_part_extract_seq\n",
      "http://sbolstandard.org/testfiles/pOdd_bb_backbone\n",
      "http://sbolstandard.org/testfiles/pOdd_bb_backbone_seq\n",
      "http://sbolstandard.org/testfiles/composite_1_part_5_part_1_j23100_ab_in_bb_part_2_b0034_bc_in_bb_part_3_gfp_ce_in_bb_part_4_b0015_ef_in_bb\n",
      "http://sbolstandard.org/testfiles/composite_1_part_5_part_1_j23100_ab_in_bb_part_2_b0034_bc_in_bb_part_3_gfp_ce_in_bb_part_4_b0015_ef_in_bb_seq\n"
     ]
    }
   ],
   "source": [
    "for obj in simple_assembly_plan.document.objects:\n",
    "    print(obj.identity)"
   ]
  },
  {
   "cell_type": "markdown",
   "metadata": {},
   "source": [
    "get component sequence"
   ]
  },
  {
   "cell_type": "code",
   "execution_count": null,
   "metadata": {},
   "outputs": [],
   "source": [
    "for obj in simple_assembly_plan.document.objects:\n",
    "    if obj.identity =='http://sbolstandard.org/testfiles/composite_0_part_5_part_1_j23100_ab_in_bb_part_2_b0034_bc_in_bb_part_3_gfp_ce_in_bb_part_4_b0015_ef_in_bb':\n",
    "        print(obj.sequences[0].lookup().elements)"
   ]
  },
  {
   "cell_type": "markdown",
   "metadata": {},
   "source": [
    "# Combinatorial assembly"
   ]
  },
  {
   "cell_type": "code",
   "execution_count": 4,
   "metadata": {},
   "outputs": [],
   "source": [
    "\"\"\"Test assembly plan class\"\"\"\n",
    "doc = sbol3.Document()\n",
    "sbol3.set_namespace('http://sbolstandard.org/testfiles')\n",
    "# Assembly plan setup\n",
    "bsai = ed_restriction_enzyme('BsaI')\n",
    "#lvl1 acceptor\n",
    "podd1_dir = os.path.join('podd1.gb')\n",
    "podd_doc = convert_from_genbank(podd1_dir, 'https://github.com/Gonza10V')\n",
    "podd_af = [top_level for top_level in podd_doc if type(top_level)==sbol3.Component][0]\n",
    "podd_backbone, podd_backbone_seq = backbone_from_sbol('pOdd_bb', podd_af, [680,1770], 4, False, name='pOdd_bb')\n",
    "doc.add([podd_backbone,podd_backbone_seq])\n",
    "#parts in backbone\n",
    "##get parts from genbank\n",
    "j23100_dir = os.path.join('ab_j23100.gb')\n",
    "j23101_dir = os.path.join('ab_j23101.gb')\n",
    "b0034_dir = os.path.join('bc_b0034.gb')\n",
    "gfp_dir = os.path.join('ce_gfp.gb')\n",
    "rfp_dir = os.path.join('ce_mrfp1.gb')\n",
    "cfp_dir = os.path.join('ce_ecfp.gb')\n",
    "b0015_dir = os.path.join('ef_b0015.gb')\n",
    "j23100_doc = convert_from_genbank(j23100_dir, 'https://github.com/Gonza10V')\n",
    "j23100_ab = [top_level for top_level in j23100_doc if type(top_level)==sbol3.Component][0]\n",
    "j23101_doc = convert_from_genbank(j23101_dir, 'https://github.com/Gonza10V')\n",
    "j23101_ab = [top_level for top_level in j23101_doc if type(top_level)==sbol3.Component][0]\n",
    "b0034_doc = convert_from_genbank(b0034_dir, 'https://github.com/Gonza10V')\n",
    "b0034_bc = [top_level for top_level in b0034_doc if type(top_level)==sbol3.Component][0]\n",
    "gfp_doc = convert_from_genbank(gfp_dir, 'https://github.com/Gonza10V')\n",
    "gfp_ce = [top_level for top_level in gfp_doc if type(top_level)==sbol3.Component][0]\n",
    "rfp_doc = convert_from_genbank(rfp_dir, 'https://github.com/Gonza10V')\n",
    "rfp_ce = [top_level for top_level in rfp_doc if type(top_level)==sbol3.Component][0]\n",
    "cfp_doc = convert_from_genbank(cfp_dir, 'https://github.com/Gonza10V')\n",
    "cfp_ce = [top_level for top_level in cfp_doc if type(top_level)==sbol3.Component][0]\n",
    "b0015_doc = convert_from_genbank(b0015_dir, 'https://github.com/Gonza10V')\n",
    "b0015_ef = [top_level for top_level in b0015_doc if type(top_level)==sbol3.Component][0]\n",
    "##SBOL parts in backbone\n",
    "j23100_ab_in_bb, j23100_ab_in_bb_seq = part_in_backbone_from_sbol('j23100_ab_in_bb', j23100_ab, [479,513], [sbol3.SO_PROMOTER], 4, False, name='j23100_ab_in_bb')\n",
    "doc.add([j23100_ab_in_bb, j23100_ab_in_bb_seq])\n",
    "j23101_ab_in_bb, j23101_ab_in_bb_seq = part_in_backbone_from_sbol('j23101_ab_in_bb', j23101_ab, [479,513], [sbol3.SO_PROMOTER], 4, False, name='j23101_ab_in_bb')\n",
    "doc.add([j23101_ab_in_bb, j23101_ab_in_bb_seq])\n",
    "b0034_bc_in_bb, b0034_bc_in_bb_seq = part_in_backbone_from_sbol('b0034_bc_in_bb', b0034_bc, [479,499], [sbol3.SO_RBS], 4, False, name='b0034_bc_in_bb')\n",
    "doc.add([b0034_bc_in_bb, b0034_bc_in_bb_seq])\n",
    "gfp_ce_in_bb, gfp_ce_in_bb_seq = part_in_backbone_from_sbol('gfp_ce_in_bb', gfp_ce, [479,1195], [sbol3.SO_CDS], 4, False, name='gfp_ce_in_bb')\n",
    "doc.add([gfp_ce_in_bb, gfp_ce_in_bb_seq])\n",
    "rfp_ce_in_bb, rfp_ce_in_bb_seq = part_in_backbone_from_sbol('rfp_ce_in_bb', rfp_ce, [479,1156], [sbol3.SO_CDS], 4, False, name='rfp_ce_in_bb')\n",
    "doc.add([rfp_ce_in_bb, rfp_ce_in_bb_seq])\n",
    "cfp_ce_in_bb, cfp_ce_in_bb_seq = part_in_backbone_from_sbol('cfp_ce_in_bb', cfp_ce, [479,1198], [sbol3.SO_CDS], 4, False, name='cfp_ce_in_bb')\n",
    "doc.add([cfp_ce_in_bb, cfp_ce_in_bb_seq])\n",
    "b0015_ef_in_bb, b0015_ef_in_bb_seq = part_in_backbone_from_sbol('b0015_ef_in_bb', b0015_ef, [518,646], [sbol3.SO_TERMINATOR], 4, False, name='b0015_ef_in_bb')\n",
    "doc.add([b0015_ef_in_bb, b0015_ef_in_bb_seq])\n",
    "\n",
    "\n",
    "#Assembly plan\n",
    "combinatorial_assembly_plan = Assembly_plan_composite_in_backbone_single_enzyme( \n",
    "                    name='combinatorial_rgb_transcriptional_units',\n",
    "                    parts_in_backbone=[j23100_ab_in_bb, j23101_ab_in_bb, b0034_bc_in_bb, gfp_ce_in_bb, rfp_ce_in_bb, cfp_ce_in_bb, b0015_ef_in_bb], \n",
    "                    acceptor_backbone=podd_backbone,\n",
    "                    restriction_enzyme=bsai,\n",
    "                    document=doc)\n",
    "combinatorial_assembly_plan.run()"
   ]
  },
  {
   "cell_type": "markdown",
   "metadata": {},
   "source": [
    "should produce 6 products"
   ]
  },
  {
   "cell_type": "code",
   "execution_count": 8,
   "metadata": {},
   "outputs": [
    {
     "name": "stdout",
     "output_type": "stream",
     "text": [
      "6\n"
     ]
    },
    {
     "data": {
      "text/plain": [
       "[[<sbol3.component.Component at 0x7fe1c4ab9f10>,\n",
       "  <sbol3.sequence.Sequence at 0x7fe1c459fc40>],\n",
       " [<sbol3.component.Component at 0x7fe1c4a8c4c0>,\n",
       "  <sbol3.sequence.Sequence at 0x7fe1c4ab9190>],\n",
       " [<sbol3.component.Component at 0x7fe1c4aa01f0>,\n",
       "  <sbol3.sequence.Sequence at 0x7fe1c4aa01c0>],\n",
       " [<sbol3.component.Component at 0x7fe1a5fa4820>,\n",
       "  <sbol3.sequence.Sequence at 0x7fe1c4aa1b50>],\n",
       " [<sbol3.component.Component at 0x7fe1a5fa95e0>,\n",
       "  <sbol3.sequence.Sequence at 0x7fe1c4abc280>],\n",
       " [<sbol3.component.Component at 0x7fe1a5fb1e20>,\n",
       "  <sbol3.sequence.Sequence at 0x7fe1a5fa9eb0>]]"
      ]
     },
     "execution_count": 8,
     "metadata": {},
     "output_type": "execute_result"
    }
   ],
   "source": [
    "print(len(combinatorial_assembly_plan.products))\n",
    "combinatorial_assembly_plan.products\n"
   ]
  },
  {
   "cell_type": "markdown",
   "metadata": {},
   "source": [
    "get doc components"
   ]
  },
  {
   "cell_type": "code",
   "execution_count": 6,
   "metadata": {},
   "outputs": [
    {
     "name": "stdout",
     "output_type": "stream",
     "text": [
      "http://sbolstandard.org/testfiles/pOdd_bb\n",
      "http://sbolstandard.org/testfiles/pOdd_bb_seq\n",
      "http://sbolstandard.org/testfiles/j23100_ab_in_bb\n",
      "http://sbolstandard.org/testfiles/j23100_ab_in_bb_seq\n",
      "http://sbolstandard.org/testfiles/j23101_ab_in_bb\n",
      "http://sbolstandard.org/testfiles/j23101_ab_in_bb_seq\n",
      "http://sbolstandard.org/testfiles/b0034_bc_in_bb\n",
      "http://sbolstandard.org/testfiles/b0034_bc_in_bb_seq\n",
      "http://sbolstandard.org/testfiles/gfp_ce_in_bb\n",
      "http://sbolstandard.org/testfiles/gfp_ce_in_bb_seq\n",
      "http://sbolstandard.org/testfiles/rfp_ce_in_bb\n",
      "http://sbolstandard.org/testfiles/rfp_ce_in_bb_seq\n",
      "http://sbolstandard.org/testfiles/cfp_ce_in_bb\n",
      "http://sbolstandard.org/testfiles/cfp_ce_in_bb_seq\n",
      "http://sbolstandard.org/testfiles/b0015_ef_in_bb\n",
      "http://sbolstandard.org/testfiles/b0015_ef_in_bb_seq\n",
      "http://sbolstandard.org/testfiles/combinatorial_rgb_transcriptional_units_assembly_plan\n",
      "http://sbolstandard.org/testfiles/j23100_ab_in_bb_part_extract\n",
      "http://sbolstandard.org/testfiles/j23100_ab_in_bb_part_extract_seq\n",
      "http://sbolstandard.org/testfiles/j23101_ab_in_bb_part_extract\n",
      "http://sbolstandard.org/testfiles/j23101_ab_in_bb_part_extract_seq\n",
      "http://sbolstandard.org/testfiles/b0034_bc_in_bb_part_extract\n",
      "http://sbolstandard.org/testfiles/b0034_bc_in_bb_part_extract_seq\n",
      "http://sbolstandard.org/testfiles/gfp_ce_in_bb_part_extract\n",
      "http://sbolstandard.org/testfiles/gfp_ce_in_bb_part_extract_seq\n",
      "http://sbolstandard.org/testfiles/rfp_ce_in_bb_part_extract\n",
      "http://sbolstandard.org/testfiles/rfp_ce_in_bb_part_extract_seq\n",
      "http://sbolstandard.org/testfiles/cfp_ce_in_bb_part_extract\n",
      "http://sbolstandard.org/testfiles/cfp_ce_in_bb_part_extract_seq\n",
      "http://sbolstandard.org/testfiles/b0015_ef_in_bb_part_extract\n",
      "http://sbolstandard.org/testfiles/b0015_ef_in_bb_part_extract_seq\n",
      "http://sbolstandard.org/testfiles/pOdd_bb_backbone\n",
      "http://sbolstandard.org/testfiles/pOdd_bb_backbone_seq\n",
      "http://sbolstandard.org/testfiles/composite_1_part_8_part_1_j23100_ab_in_bb_part_3_b0034_bc_in_bb_part_4_gfp_ce_in_bb_part_7_b0015_ef_in_bb\n",
      "http://sbolstandard.org/testfiles/composite_1_part_8_part_1_j23100_ab_in_bb_part_3_b0034_bc_in_bb_part_4_gfp_ce_in_bb_part_7_b0015_ef_in_bb_seq\n",
      "http://sbolstandard.org/testfiles/composite_2_part_8_part_1_j23100_ab_in_bb_part_3_b0034_bc_in_bb_part_5_rfp_ce_in_bb_part_7_b0015_ef_in_bb\n",
      "http://sbolstandard.org/testfiles/composite_2_part_8_part_1_j23100_ab_in_bb_part_3_b0034_bc_in_bb_part_5_rfp_ce_in_bb_part_7_b0015_ef_in_bb_seq\n",
      "http://sbolstandard.org/testfiles/composite_3_part_8_part_1_j23100_ab_in_bb_part_3_b0034_bc_in_bb_part_6_cfp_ce_in_bb_part_7_b0015_ef_in_bb\n",
      "http://sbolstandard.org/testfiles/composite_3_part_8_part_1_j23100_ab_in_bb_part_3_b0034_bc_in_bb_part_6_cfp_ce_in_bb_part_7_b0015_ef_in_bb_seq\n",
      "http://sbolstandard.org/testfiles/composite_4_part_8_part_2_j23101_ab_in_bb_part_3_b0034_bc_in_bb_part_4_gfp_ce_in_bb_part_7_b0015_ef_in_bb\n",
      "http://sbolstandard.org/testfiles/composite_4_part_8_part_2_j23101_ab_in_bb_part_3_b0034_bc_in_bb_part_4_gfp_ce_in_bb_part_7_b0015_ef_in_bb_seq\n",
      "http://sbolstandard.org/testfiles/composite_5_part_8_part_2_j23101_ab_in_bb_part_3_b0034_bc_in_bb_part_5_rfp_ce_in_bb_part_7_b0015_ef_in_bb\n",
      "http://sbolstandard.org/testfiles/composite_5_part_8_part_2_j23101_ab_in_bb_part_3_b0034_bc_in_bb_part_5_rfp_ce_in_bb_part_7_b0015_ef_in_bb_seq\n",
      "http://sbolstandard.org/testfiles/composite_6_part_8_part_2_j23101_ab_in_bb_part_3_b0034_bc_in_bb_part_6_cfp_ce_in_bb_part_7_b0015_ef_in_bb\n",
      "http://sbolstandard.org/testfiles/composite_6_part_8_part_2_j23101_ab_in_bb_part_3_b0034_bc_in_bb_part_6_cfp_ce_in_bb_part_7_b0015_ef_in_bb_seq\n"
     ]
    }
   ],
   "source": [
    "for obj in combinatorial_assembly_plan.document.objects:\n",
    "    print(obj.identity)"
   ]
  },
  {
   "cell_type": "markdown",
   "metadata": {},
   "source": [
    "Get a sequence"
   ]
  },
  {
   "cell_type": "code",
   "execution_count": 7,
   "metadata": {},
   "outputs": [
    {
     "name": "stdout",
     "output_type": "stream",
     "text": [
      "cgctgcatgaagagcctgcagtccggcaaaaaagggcaaggtgtcaccaccctgccctttttctttaaaaccgaaaagattacttcgcgttatgcaggcttcctcgctcactgactcgctgcgctcggtcgttcggctgcggcgagcggtatcagctcactcaaaggcggtaatacggttatccacagaatcaggggataacgcaggaaagaacatgtgagcaaaaggccagcaaaaggccaggaaccgtaaaaaggccgcgttgctggcgtttttccacaggctccgcccccctgacgagcatcacaaaaatcgacgctcaagtcagaggtggcgaaacccgacaggactataaagataccaggcgtttccccctggaagctccctcgtgcgctctcctgttccgaccctgccgcttaccggatacctgtccgcctttctcccttcgggaagcgtggcgctttctcatagctcacgctgtaggtatctcagttcggtgtaggtcgttcgctccaagctgggctgtgtgcacgaaccccccgttcagcccgaccgctgcgccttatccggtaactatcgtcttgagtccaacccggtaagacacgacttatcgccactggcagcagccactggtaacaggattagcagagcgaggtatgtaggcggtgctacagagttcttgaagtggtggcctaactacggctacactagaagaacagtatttggtatctgcgctctgctgaagccagttaccttcggaaaaagagttggtagctcttgatccggcaaacaaaccaccgctggtagcggtggtttttttgtttgcaagcagcagattacgcgcagaaaaaaaggatctcaagaagatcctttgatcttttctacggggtctgacgctcagtggaacgaaaactcacgttaagggattttggtcatgagattatcaaaaaggatcttcacctagatccttttaaattaaaaatgaagttttaaatcaatctaaagtatatatgagtaaacttggtctgacagctcgagtcccgtcaagtcagcgtaatgctctgccagtgttacaaccaattaaccaattctgattagaaaaactcatcgagcatcaaatgaaactgcaatttattcatatcaggattatcaataccatatttttgaaaaagccgtttctgtaatgaaggagaaaactcaccgaggcagttccataggatggcaagatcctggtatcggtctgcgattccgactcgtccaacatcaatacaacctattaatttcccctcgtcaaaaataaggttatcaagtgagaaatcaccatgagtgacgactgaatccggtgagaatggcaaaagcttatgcatttctttccagacttgttcaacaggccagccattacgctcgtcatcaaaatcactcgcatcaaccaaaccgttattcattcgtgattgcgcctgagcgagacgaaatacgcgatcgctgttaaaaggacaattacaaacaggaatcgaatgcaaccggcgcaggaacactgccagcgcatcaacaatattttcacctgaatcaggatattcttctaatacctggaatgctgttttcccggggatcgcagtggtgagtaaccatgcatcatcaggagtacggataaaatgcttgatggtcggaagaggcataaattccgtcagccagtttagtctgaccatctcatctgtaacatcattggcaacgctacctttgccatgtttcagaaacaactctggcgcatcgggcttcccatacaatcgatagattgtcgcacctgattgcccgacattatcgcgagcccatttatacccatataaatcagcatccatgttggaatttaatcgcggcctggagcaagacgtttcccgttgaatatggctcataacaccccttgtattactgtttatgtaagcagacagttttattgttcatgatgatatatttttatcttgtgcaatgtaacatcagagattttgagacacaacgtggctttgttgaataaatcgaacttttgctgagttgaaggatcagctcgagtgccacctgacgtctaagaaaccattattatcatgacattaacctataaaaataggcgtatcacgaggcagaatttcagataaaaaaaatccttagctttcgctaaggatgatttctggaattcgctcttcaatgGGAGttgacggctagctcagtcctaggtacagtgctagcTACTagagaaagaggagaaatactaaatggtgagcaagggcgaggagctgttcaccggggtggtgcccatcctggtcgagctggacggcgacgtgaacggccacaagttcagcgtgtccggcgagggcgagggcgatgccacctacggcaagctgaccctgaagttcatctgcaccaccggcaagctgcccgtgccctggcccaccctcgtgaccaccctgacctggggcgtgcagtgcttcagccgctaccccgaccacatgaagcagcacgacttcttcaagtccgccatgcccgaaggctacgtccaggagcgcaccatcttcttcaaggacgacggcaactacaagacccgcgccgaggtgaagttcgagggcgacaccctggtgaaccgcatcgagctgaagggcatcgacttcaaggaggacggcaacatcctggggcacaagctggagtacaactacatcagccacaacgtctatatcaccgccgacaagcagaagaacggcatcaaggccaacttcaagatccgccacaacatcgaggacggcagcgtgcagctcgccgaccactaccagcagaacacccccatcggcgacggccccgtgctgctgcccgacaaccactacctgagcacccagtccgccctgagcaaagaccccaacgagaagcgcgatcacatggtcctgctggagttcgtgaccgccgccgggatcactctcggcatggacgagctgtacaagtaataaGCTTccaggcatcaaataaaacgaaaggctcagtcgaaagactgggcctttcgttttatctgttgtttgtcggtgaacgctctctactagagtcacactggctcaccttcgggtgggcctttctgcgtttata\n"
     ]
    }
   ],
   "source": [
    "for obj in combinatorial_assembly_plan.document.objects:\n",
    "    if obj.identity =='http://sbolstandard.org/testfiles/composite_3_part_8_part_1_j23100_ab_in_bb_part_3_b0034_bc_in_bb_part_6_cfp_ce_in_bb_part_7_b0015_ef_in_bb':\n",
    "        print(obj.sequences[0].lookup().elements)"
   ]
  },
  {
   "cell_type": "code",
   "execution_count": null,
   "metadata": {},
   "outputs": [],
   "source": []
  }
 ],
 "metadata": {
  "kernelspec": {
   "display_name": "LOICA",
   "language": "python",
   "name": "python3"
  },
  "language_info": {
   "codemirror_mode": {
    "name": "ipython",
    "version": 3
   },
   "file_extension": ".py",
   "mimetype": "text/x-python",
   "name": "python",
   "nbconvert_exporter": "python",
   "pygments_lexer": "ipython3",
   "version": "3.9.16"
  }
 },
 "nbformat": 4,
 "nbformat_minor": 2
}
